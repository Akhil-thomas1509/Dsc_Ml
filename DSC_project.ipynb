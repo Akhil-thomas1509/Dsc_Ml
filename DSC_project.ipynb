{
 "cells": [
  {
   "cell_type": "markdown",
   "metadata": {},
   "source": [
    "# Importing libraries\n",
    "\n"
   ]
  },
  {
   "cell_type": "code",
   "execution_count": 3,
   "metadata": {},
   "outputs": [],
   "source": [
    "import pandas as pd\n",
    "import numpy as np\n",
    "import seaborn as sns\n",
    "import matplotlib.pyplot as plt\n",
    "%matplotlib inline\n"
   ]
  },
  {
   "cell_type": "markdown",
   "metadata": {},
   "source": [
    "## Reading the database"
   ]
  },
  {
   "cell_type": "code",
   "execution_count": 4,
   "metadata": {},
   "outputs": [],
   "source": [
    "df = pd.read_csv('database.csv',low_memory=False)"
   ]
  },
  {
   "cell_type": "code",
   "execution_count": 5,
   "metadata": {},
   "outputs": [
    {
     "data": {
      "text/html": [
       "<div>\n",
       "<style scoped>\n",
       "    .dataframe tbody tr th:only-of-type {\n",
       "        vertical-align: middle;\n",
       "    }\n",
       "\n",
       "    .dataframe tbody tr th {\n",
       "        vertical-align: top;\n",
       "    }\n",
       "\n",
       "    .dataframe thead th {\n",
       "        text-align: right;\n",
       "    }\n",
       "</style>\n",
       "<table border=\"1\" class=\"dataframe\">\n",
       "  <thead>\n",
       "    <tr style=\"text-align: right;\">\n",
       "      <th></th>\n",
       "      <th>Record ID</th>\n",
       "      <th>Incident Year</th>\n",
       "      <th>Incident Month</th>\n",
       "      <th>Incident Day</th>\n",
       "      <th>Operator ID</th>\n",
       "      <th>Operator</th>\n",
       "      <th>Aircraft</th>\n",
       "      <th>Aircraft Type</th>\n",
       "      <th>Aircraft Make</th>\n",
       "      <th>Aircraft Model</th>\n",
       "      <th>...</th>\n",
       "      <th>Fuselage Strike</th>\n",
       "      <th>Fuselage Damage</th>\n",
       "      <th>Landing Gear Strike</th>\n",
       "      <th>Landing Gear Damage</th>\n",
       "      <th>Tail Strike</th>\n",
       "      <th>Tail Damage</th>\n",
       "      <th>Lights Strike</th>\n",
       "      <th>Lights Damage</th>\n",
       "      <th>Other Strike</th>\n",
       "      <th>Other Damage</th>\n",
       "    </tr>\n",
       "  </thead>\n",
       "  <tbody>\n",
       "    <tr>\n",
       "      <td>0</td>\n",
       "      <td>127128</td>\n",
       "      <td>1990</td>\n",
       "      <td>1</td>\n",
       "      <td>1</td>\n",
       "      <td>DAL</td>\n",
       "      <td>DELTA AIR LINES</td>\n",
       "      <td>B-757-200</td>\n",
       "      <td>A</td>\n",
       "      <td>148</td>\n",
       "      <td>26</td>\n",
       "      <td>...</td>\n",
       "      <td>0</td>\n",
       "      <td>0</td>\n",
       "      <td>0</td>\n",
       "      <td>0</td>\n",
       "      <td>1</td>\n",
       "      <td>1</td>\n",
       "      <td>0</td>\n",
       "      <td>0</td>\n",
       "      <td>0</td>\n",
       "      <td>0</td>\n",
       "    </tr>\n",
       "    <tr>\n",
       "      <td>1</td>\n",
       "      <td>129779</td>\n",
       "      <td>1990</td>\n",
       "      <td>1</td>\n",
       "      <td>1</td>\n",
       "      <td>HAL</td>\n",
       "      <td>HAWAIIAN AIR</td>\n",
       "      <td>DC-9</td>\n",
       "      <td>A</td>\n",
       "      <td>583</td>\n",
       "      <td>90</td>\n",
       "      <td>...</td>\n",
       "      <td>0</td>\n",
       "      <td>0</td>\n",
       "      <td>0</td>\n",
       "      <td>0</td>\n",
       "      <td>0</td>\n",
       "      <td>0</td>\n",
       "      <td>0</td>\n",
       "      <td>0</td>\n",
       "      <td>1</td>\n",
       "      <td>0</td>\n",
       "    </tr>\n",
       "    <tr>\n",
       "      <td>2</td>\n",
       "      <td>129780</td>\n",
       "      <td>1990</td>\n",
       "      <td>1</td>\n",
       "      <td>2</td>\n",
       "      <td>UNK</td>\n",
       "      <td>UNKNOWN</td>\n",
       "      <td>UNKNOWN</td>\n",
       "      <td>NaN</td>\n",
       "      <td>NaN</td>\n",
       "      <td>NaN</td>\n",
       "      <td>...</td>\n",
       "      <td>0</td>\n",
       "      <td>0</td>\n",
       "      <td>0</td>\n",
       "      <td>0</td>\n",
       "      <td>0</td>\n",
       "      <td>0</td>\n",
       "      <td>0</td>\n",
       "      <td>0</td>\n",
       "      <td>0</td>\n",
       "      <td>0</td>\n",
       "    </tr>\n",
       "    <tr>\n",
       "      <td>3</td>\n",
       "      <td>2258</td>\n",
       "      <td>1990</td>\n",
       "      <td>1</td>\n",
       "      <td>3</td>\n",
       "      <td>MIL</td>\n",
       "      <td>MILITARY</td>\n",
       "      <td>A-10A</td>\n",
       "      <td>A</td>\n",
       "      <td>345</td>\n",
       "      <td>NaN</td>\n",
       "      <td>...</td>\n",
       "      <td>0</td>\n",
       "      <td>0</td>\n",
       "      <td>0</td>\n",
       "      <td>0</td>\n",
       "      <td>0</td>\n",
       "      <td>0</td>\n",
       "      <td>0</td>\n",
       "      <td>0</td>\n",
       "      <td>0</td>\n",
       "      <td>0</td>\n",
       "    </tr>\n",
       "    <tr>\n",
       "      <td>4</td>\n",
       "      <td>2257</td>\n",
       "      <td>1990</td>\n",
       "      <td>1</td>\n",
       "      <td>3</td>\n",
       "      <td>MIL</td>\n",
       "      <td>MILITARY</td>\n",
       "      <td>F-16</td>\n",
       "      <td>A</td>\n",
       "      <td>561</td>\n",
       "      <td>NaN</td>\n",
       "      <td>...</td>\n",
       "      <td>0</td>\n",
       "      <td>0</td>\n",
       "      <td>0</td>\n",
       "      <td>0</td>\n",
       "      <td>0</td>\n",
       "      <td>0</td>\n",
       "      <td>0</td>\n",
       "      <td>0</td>\n",
       "      <td>0</td>\n",
       "      <td>0</td>\n",
       "    </tr>\n",
       "  </tbody>\n",
       "</table>\n",
       "<p>5 rows × 66 columns</p>\n",
       "</div>"
      ],
      "text/plain": [
       "   Record ID  Incident Year  Incident Month  Incident Day Operator ID  \\\n",
       "0     127128           1990               1             1         DAL   \n",
       "1     129779           1990               1             1         HAL   \n",
       "2     129780           1990               1             2         UNK   \n",
       "3       2258           1990               1             3         MIL   \n",
       "4       2257           1990               1             3         MIL   \n",
       "\n",
       "          Operator   Aircraft Aircraft Type Aircraft Make Aircraft Model  ...  \\\n",
       "0  DELTA AIR LINES  B-757-200             A           148             26  ...   \n",
       "1     HAWAIIAN AIR       DC-9             A           583             90  ...   \n",
       "2          UNKNOWN    UNKNOWN           NaN           NaN            NaN  ...   \n",
       "3         MILITARY      A-10A             A           345            NaN  ...   \n",
       "4         MILITARY       F-16             A           561            NaN  ...   \n",
       "\n",
       "   Fuselage Strike  Fuselage Damage Landing Gear Strike  Landing Gear Damage  \\\n",
       "0                0                0                   0                    0   \n",
       "1                0                0                   0                    0   \n",
       "2                0                0                   0                    0   \n",
       "3                0                0                   0                    0   \n",
       "4                0                0                   0                    0   \n",
       "\n",
       "  Tail Strike Tail Damage  Lights Strike Lights Damage  Other Strike  \\\n",
       "0           1           1              0             0             0   \n",
       "1           0           0              0             0             1   \n",
       "2           0           0              0             0             0   \n",
       "3           0           0              0             0             0   \n",
       "4           0           0              0             0             0   \n",
       "\n",
       "  Other Damage  \n",
       "0            0  \n",
       "1            0  \n",
       "2            0  \n",
       "3            0  \n",
       "4            0  \n",
       "\n",
       "[5 rows x 66 columns]"
      ]
     },
     "execution_count": 5,
     "metadata": {},
     "output_type": "execute_result"
    }
   ],
   "source": [
    "df.head()"
   ]
  },
  {
   "cell_type": "code",
   "execution_count": 6,
   "metadata": {},
   "outputs": [
    {
     "data": {
      "text/plain": [
       "Index(['Record ID', 'Incident Year', 'Incident Month', 'Incident Day',\n",
       "       'Operator ID', 'Operator', 'Aircraft', 'Aircraft Type', 'Aircraft Make',\n",
       "       'Aircraft Model', 'Aircraft Mass', 'Engine Make', 'Engine Model',\n",
       "       'Engines', 'Engine Type', 'Engine1 Position', 'Engine2 Position',\n",
       "       'Engine3 Position', 'Engine4 Position', 'Airport ID', 'Airport',\n",
       "       'State', 'FAA Region', 'Warning Issued', 'Flight Phase', 'Visibility',\n",
       "       'Precipitation', 'Height', 'Speed', 'Distance', 'Species ID',\n",
       "       'Species Name', 'Species Quantity', 'Flight Impact', 'Fatalities',\n",
       "       'Injuries', 'Aircraft Damage', 'Radome Strike', 'Radome Damage',\n",
       "       'Windshield Strike', 'Windshield Damage', 'Nose Strike', 'Nose Damage',\n",
       "       'Engine1 Strike', 'Engine1 Damage', 'Engine2 Strike', 'Engine2 Damage',\n",
       "       'Engine3 Strike', 'Engine3 Damage', 'Engine4 Strike', 'Engine4 Damage',\n",
       "       'Engine Ingested', 'Propeller Strike', 'Propeller Damage',\n",
       "       'Wing or Rotor Strike', 'Wing or Rotor Damage', 'Fuselage Strike',\n",
       "       'Fuselage Damage', 'Landing Gear Strike', 'Landing Gear Damage',\n",
       "       'Tail Strike', 'Tail Damage', 'Lights Strike', 'Lights Damage',\n",
       "       'Other Strike', 'Other Damage'],\n",
       "      dtype='object')"
      ]
     },
     "execution_count": 6,
     "metadata": {},
     "output_type": "execute_result"
    }
   ],
   "source": [
    "df.columns"
   ]
  },
  {
   "cell_type": "code",
   "execution_count": 7,
   "metadata": {},
   "outputs": [
    {
     "name": "stdout",
     "output_type": "stream",
     "text": [
      "<class 'pandas.core.frame.DataFrame'>\n",
      "RangeIndex: 174104 entries, 0 to 174103\n",
      "Data columns (total 66 columns):\n",
      "Record ID               174104 non-null int64\n",
      "Incident Year           174104 non-null int64\n",
      "Incident Month          174104 non-null int64\n",
      "Incident Day            174104 non-null int64\n",
      "Operator ID             174104 non-null object\n",
      "Operator                174104 non-null object\n",
      "Aircraft                174104 non-null object\n",
      "Aircraft Type           133074 non-null object\n",
      "Aircraft Make           131051 non-null object\n",
      "Aircraft Model          122439 non-null object\n",
      "Aircraft Mass           127320 non-null float64\n",
      "Engine Make             123434 non-null float64\n",
      "Engine Model            121988 non-null object\n",
      "Engines                 127342 non-null float64\n",
      "Engine Type             127282 non-null object\n",
      "Engine1 Position        126193 non-null object\n",
      "Engine2 Position        118715 non-null float64\n",
      "Engine3 Position        11659 non-null object\n",
      "Engine4 Position        3092 non-null float64\n",
      "Airport ID              174104 non-null object\n",
      "Airport                 173814 non-null object\n",
      "State                   152128 non-null object\n",
      "FAA Region              155202 non-null object\n",
      "Warning Issued          76418 non-null object\n",
      "Flight Phase            118802 non-null object\n",
      "Visibility              109933 non-null object\n",
      "Precipitation           88322 non-null object\n",
      "Height                  103677 non-null float64\n",
      "Speed                   71258 non-null float64\n",
      "Distance                99713 non-null float64\n",
      "Species ID              174104 non-null object\n",
      "Species Name            174024 non-null object\n",
      "Species Quantity        169627 non-null object\n",
      "Flight Impact           99465 non-null object\n",
      "Fatalities              565 non-null float64\n",
      "Injuries                229 non-null float64\n",
      "Aircraft Damage         174104 non-null int64\n",
      "Radome Strike           174104 non-null int64\n",
      "Radome Damage           174104 non-null int64\n",
      "Windshield Strike       174104 non-null int64\n",
      "Windshield Damage       174104 non-null int64\n",
      "Nose Strike             174104 non-null int64\n",
      "Nose Damage             174104 non-null int64\n",
      "Engine1 Strike          174104 non-null int64\n",
      "Engine1 Damage          174104 non-null int64\n",
      "Engine2 Strike          174104 non-null int64\n",
      "Engine2 Damage          174104 non-null int64\n",
      "Engine3 Strike          174104 non-null int64\n",
      "Engine3 Damage          174104 non-null int64\n",
      "Engine4 Strike          174104 non-null int64\n",
      "Engine4 Damage          174104 non-null int64\n",
      "Engine Ingested         174104 non-null int64\n",
      "Propeller Strike        174104 non-null int64\n",
      "Propeller Damage        174104 non-null int64\n",
      "Wing or Rotor Strike    174104 non-null int64\n",
      "Wing or Rotor Damage    174104 non-null int64\n",
      "Fuselage Strike         174104 non-null int64\n",
      "Fuselage Damage         174104 non-null int64\n",
      "Landing Gear Strike     174104 non-null int64\n",
      "Landing Gear Damage     174104 non-null int64\n",
      "Tail Strike             174104 non-null int64\n",
      "Tail Damage             174104 non-null int64\n",
      "Lights Strike           174104 non-null int64\n",
      "Lights Damage           174104 non-null int64\n",
      "Other Strike            174104 non-null int64\n",
      "Other Damage            174104 non-null int64\n",
      "dtypes: float64(10), int64(34), object(22)\n",
      "memory usage: 87.7+ MB\n"
     ]
    }
   ],
   "source": [
    "df.info()"
   ]
  },
  {
   "cell_type": "markdown",
   "metadata": {},
   "source": [
    "# EDA"
   ]
  },
  {
   "cell_type": "code",
   "execution_count": 8,
   "metadata": {},
   "outputs": [],
   "source": [
    "df['Operator']= df['Operator'].replace('UNKNOWN',np.nan)"
   ]
  },
  {
   "cell_type": "code",
   "execution_count": 9,
   "metadata": {},
   "outputs": [],
   "source": [
    "df['Operator ID'] = df['Operator ID'].replace('UNK',np.nan)"
   ]
  },
  {
   "cell_type": "code",
   "execution_count": 10,
   "metadata": {},
   "outputs": [
    {
     "data": {
      "text/plain": [
       "<matplotlib.axes._subplots.AxesSubplot at 0x28e7f6fd288>"
      ]
     },
     "execution_count": 10,
     "metadata": {},
     "output_type": "execute_result"
    },
    {
     "data": {
      "image/png": "[encoded data removed]",
      "text/plain": [
       "<Figure size 432x288 with 1 Axes>"
      ]
     },
     "metadata": {
      "needs_background": "light"
     },
     "output_type": "display_data"
    }
   ],
   "source": [
    "df['Operator'].value_counts().head(10).plot(kind = 'barh')"
   ]
  },
  {
   "cell_type": "code",
   "execution_count": 11,
   "metadata": {},
   "outputs": [],
   "source": [
    "df = df.replace('UNKNOWN',np.nan)"
   ]
  },
  {
   "cell_type": "code",
   "execution_count": 12,
   "metadata": {},
   "outputs": [
    {
     "data": {
      "text/plain": [
       "<matplotlib.axes._subplots.AxesSubplot at 0x28e030d7e88>"
      ]
     },
     "execution_count": 12,
     "metadata": {},
     "output_type": "execute_result"
    },
    {
     "data": {
      "image/png": "[encoded data removed]",
      "text/plain": [
       "<Figure size 432x288 with 1 Axes>"
      ]
     },
     "metadata": {
      "needs_background": "light"
     },
     "output_type": "display_data"
    }
   ],
   "source": [
    "df.groupby('Incident Year').size().plot()"
   ]
  },
  {
   "cell_type": "code",
   "execution_count": 13,
   "metadata": {},
   "outputs": [
    {
     "data": {
      "text/plain": [
       "<matplotlib.axes._subplots.AxesSubplot at 0x28e03c22948>"
      ]
     },
     "execution_count": 13,
     "metadata": {},
     "output_type": "execute_result"
    },
    {
     "data": {
      "image/png": "[encoded data removed]",
      "text/plain": [
       "<Figure size 432x288 with 1 Axes>"
      ]
     },
     "metadata": {
      "needs_background": "light"
     },
     "output_type": "display_data"
    }
   ],
   "source": [
    "df.groupby('Incident Month').size().plot()\n"
   ]
  },
  {
   "cell_type": "markdown",
   "metadata": {},
   "source": [
    "# Solution to the Second  Question"
   ]
  },
  {
   "cell_type": "code",
   "execution_count": 14,
   "metadata": {},
   "outputs": [],
   "source": [
    "df_2 = df[['Aircraft Damage', 'Radome Strike', 'Radome Damage',\n",
    "       'Windshield Strike', 'Windshield Damage', 'Nose Strike', 'Nose Damage',\n",
    "       'Engine1 Strike', 'Engine1 Damage', 'Engine2 Strike', 'Engine2 Damage',\n",
    "       'Engine3 Strike', 'Engine3 Damage', 'Engine4 Strike', 'Engine4 Damage',\n",
    "       'Engine Ingested', 'Propeller Strike', 'Propeller Damage',\n",
    "       'Wing or Rotor Strike', 'Wing or Rotor Damage', 'Fuselage Strike',\n",
    "       'Fuselage Damage', 'Landing Gear Strike', 'Landing Gear Damage',\n",
    "       'Tail Strike', 'Tail Damage', 'Lights Strike', 'Lights Damage',\n",
    "       'Other Strike', 'Other Damage']]"
   ]
  },
  {
   "cell_type": "code",
   "execution_count": 15,
   "metadata": {},
   "outputs": [
    {
     "name": "stderr",
     "output_type": "stream",
     "text": [
      "C:\\Users\\hp\\Anaconda3\\lib\\site-packages\\ipykernel_launcher.py:1: SettingWithCopyWarning: \n",
      "A value is trying to be set on a copy of a slice from a DataFrame.\n",
      "Try using .loc[row_indexer,col_indexer] = value instead\n",
      "\n",
      "See the caveats in the documentation: http://pandas.pydata.org/pandas-docs/stable/user_guide/indexing.html#returning-a-view-versus-a-copy\n",
      "  \"\"\"Entry point for launching an IPython kernel.\n"
     ]
    }
   ],
   "source": [
    "df_2['Aircraft Damage'] = df_2['Aircraft Damage'].replace(0,np.nan)"
   ]
  },
  {
   "cell_type": "code",
   "execution_count": 16,
   "metadata": {},
   "outputs": [
    {
     "data": {
      "text/html": [
       "<div>\n",
       "<style scoped>\n",
       "    .dataframe tbody tr th:only-of-type {\n",
       "        vertical-align: middle;\n",
       "    }\n",
       "\n",
       "    .dataframe tbody tr th {\n",
       "        vertical-align: top;\n",
       "    }\n",
       "\n",
       "    .dataframe thead th {\n",
       "        text-align: right;\n",
       "    }\n",
       "</style>\n",
       "<table border=\"1\" class=\"dataframe\">\n",
       "  <thead>\n",
       "    <tr style=\"text-align: right;\">\n",
       "      <th></th>\n",
       "      <th>Aircraft Damage</th>\n",
       "      <th>Radome Strike</th>\n",
       "      <th>Radome Damage</th>\n",
       "      <th>Windshield Strike</th>\n",
       "      <th>Windshield Damage</th>\n",
       "      <th>Nose Strike</th>\n",
       "      <th>Nose Damage</th>\n",
       "      <th>Engine1 Strike</th>\n",
       "      <th>Engine1 Damage</th>\n",
       "      <th>Engine2 Strike</th>\n",
       "      <th>...</th>\n",
       "      <th>Fuselage Strike</th>\n",
       "      <th>Fuselage Damage</th>\n",
       "      <th>Landing Gear Strike</th>\n",
       "      <th>Landing Gear Damage</th>\n",
       "      <th>Tail Strike</th>\n",
       "      <th>Tail Damage</th>\n",
       "      <th>Lights Strike</th>\n",
       "      <th>Lights Damage</th>\n",
       "      <th>Other Strike</th>\n",
       "      <th>Other Damage</th>\n",
       "    </tr>\n",
       "  </thead>\n",
       "  <tbody>\n",
       "    <tr>\n",
       "      <td>0</td>\n",
       "      <td>1.0</td>\n",
       "      <td>1</td>\n",
       "      <td>1</td>\n",
       "      <td>0</td>\n",
       "      <td>0</td>\n",
       "      <td>0</td>\n",
       "      <td>0</td>\n",
       "      <td>0</td>\n",
       "      <td>0</td>\n",
       "      <td>0</td>\n",
       "      <td>...</td>\n",
       "      <td>0</td>\n",
       "      <td>0</td>\n",
       "      <td>0</td>\n",
       "      <td>0</td>\n",
       "      <td>1</td>\n",
       "      <td>1</td>\n",
       "      <td>0</td>\n",
       "      <td>0</td>\n",
       "      <td>0</td>\n",
       "      <td>0</td>\n",
       "    </tr>\n",
       "    <tr>\n",
       "      <td>1</td>\n",
       "      <td>NaN</td>\n",
       "      <td>0</td>\n",
       "      <td>0</td>\n",
       "      <td>0</td>\n",
       "      <td>0</td>\n",
       "      <td>0</td>\n",
       "      <td>0</td>\n",
       "      <td>0</td>\n",
       "      <td>0</td>\n",
       "      <td>0</td>\n",
       "      <td>...</td>\n",
       "      <td>0</td>\n",
       "      <td>0</td>\n",
       "      <td>0</td>\n",
       "      <td>0</td>\n",
       "      <td>0</td>\n",
       "      <td>0</td>\n",
       "      <td>0</td>\n",
       "      <td>0</td>\n",
       "      <td>1</td>\n",
       "      <td>0</td>\n",
       "    </tr>\n",
       "    <tr>\n",
       "      <td>2</td>\n",
       "      <td>NaN</td>\n",
       "      <td>0</td>\n",
       "      <td>0</td>\n",
       "      <td>0</td>\n",
       "      <td>0</td>\n",
       "      <td>0</td>\n",
       "      <td>0</td>\n",
       "      <td>0</td>\n",
       "      <td>0</td>\n",
       "      <td>0</td>\n",
       "      <td>...</td>\n",
       "      <td>0</td>\n",
       "      <td>0</td>\n",
       "      <td>0</td>\n",
       "      <td>0</td>\n",
       "      <td>0</td>\n",
       "      <td>0</td>\n",
       "      <td>0</td>\n",
       "      <td>0</td>\n",
       "      <td>0</td>\n",
       "      <td>0</td>\n",
       "    </tr>\n",
       "    <tr>\n",
       "      <td>3</td>\n",
       "      <td>NaN</td>\n",
       "      <td>0</td>\n",
       "      <td>0</td>\n",
       "      <td>0</td>\n",
       "      <td>0</td>\n",
       "      <td>0</td>\n",
       "      <td>0</td>\n",
       "      <td>0</td>\n",
       "      <td>0</td>\n",
       "      <td>0</td>\n",
       "      <td>...</td>\n",
       "      <td>0</td>\n",
       "      <td>0</td>\n",
       "      <td>0</td>\n",
       "      <td>0</td>\n",
       "      <td>0</td>\n",
       "      <td>0</td>\n",
       "      <td>0</td>\n",
       "      <td>0</td>\n",
       "      <td>0</td>\n",
       "      <td>0</td>\n",
       "    </tr>\n",
       "    <tr>\n",
       "      <td>4</td>\n",
       "      <td>NaN</td>\n",
       "      <td>0</td>\n",
       "      <td>0</td>\n",
       "      <td>1</td>\n",
       "      <td>0</td>\n",
       "      <td>0</td>\n",
       "      <td>0</td>\n",
       "      <td>0</td>\n",
       "      <td>0</td>\n",
       "      <td>0</td>\n",
       "      <td>...</td>\n",
       "      <td>0</td>\n",
       "      <td>0</td>\n",
       "      <td>0</td>\n",
       "      <td>0</td>\n",
       "      <td>0</td>\n",
       "      <td>0</td>\n",
       "      <td>0</td>\n",
       "      <td>0</td>\n",
       "      <td>0</td>\n",
       "      <td>0</td>\n",
       "    </tr>\n",
       "  </tbody>\n",
       "</table>\n",
       "<p>5 rows × 30 columns</p>\n",
       "</div>"
      ],
      "text/plain": [
       "   Aircraft Damage  Radome Strike  Radome Damage  Windshield Strike  \\\n",
       "0              1.0              1              1                  0   \n",
       "1              NaN              0              0                  0   \n",
       "2              NaN              0              0                  0   \n",
       "3              NaN              0              0                  0   \n",
       "4              NaN              0              0                  1   \n",
       "\n",
       "   Windshield Damage  Nose Strike  Nose Damage  Engine1 Strike  \\\n",
       "0                  0            0            0               0   \n",
       "1                  0            0            0               0   \n",
       "2                  0            0            0               0   \n",
       "3                  0            0            0               0   \n",
       "4                  0            0            0               0   \n",
       "\n",
       "   Engine1 Damage  Engine2 Strike  ...  Fuselage Strike  Fuselage Damage  \\\n",
       "0               0               0  ...                0                0   \n",
       "1               0               0  ...                0                0   \n",
       "2               0               0  ...                0                0   \n",
       "3               0               0  ...                0                0   \n",
       "4               0               0  ...                0                0   \n",
       "\n",
       "   Landing Gear Strike  Landing Gear Damage  Tail Strike  Tail Damage  \\\n",
       "0                    0                    0            1            1   \n",
       "1                    0                    0            0            0   \n",
       "2                    0                    0            0            0   \n",
       "3                    0                    0            0            0   \n",
       "4                    0                    0            0            0   \n",
       "\n",
       "   Lights Strike  Lights Damage  Other Strike  Other Damage  \n",
       "0              0              0             0             0  \n",
       "1              0              0             1             0  \n",
       "2              0              0             0             0  \n",
       "3              0              0             0             0  \n",
       "4              0              0             0             0  \n",
       "\n",
       "[5 rows x 30 columns]"
      ]
     },
     "execution_count": 16,
     "metadata": {},
     "output_type": "execute_result"
    }
   ],
   "source": [
    "df_2.head()"
   ]
  },
  {
   "cell_type": "code",
   "execution_count": 17,
   "metadata": {},
   "outputs": [
    {
     "data": {
      "text/html": [
       "<div>\n",
       "<style scoped>\n",
       "    .dataframe tbody tr th:only-of-type {\n",
       "        vertical-align: middle;\n",
       "    }\n",
       "\n",
       "    .dataframe tbody tr th {\n",
       "        vertical-align: top;\n",
       "    }\n",
       "\n",
       "    .dataframe thead th {\n",
       "        text-align: right;\n",
       "    }\n",
       "</style>\n",
       "<table border=\"1\" class=\"dataframe\">\n",
       "  <thead>\n",
       "    <tr style=\"text-align: right;\">\n",
       "      <th></th>\n",
       "      <th>Aircraft Damage</th>\n",
       "      <th>Radome Strike</th>\n",
       "      <th>Radome Damage</th>\n",
       "      <th>Windshield Strike</th>\n",
       "      <th>Windshield Damage</th>\n",
       "      <th>Nose Strike</th>\n",
       "      <th>Nose Damage</th>\n",
       "      <th>Engine1 Strike</th>\n",
       "      <th>Engine1 Damage</th>\n",
       "      <th>Engine2 Strike</th>\n",
       "      <th>...</th>\n",
       "      <th>Fuselage Strike</th>\n",
       "      <th>Fuselage Damage</th>\n",
       "      <th>Landing Gear Strike</th>\n",
       "      <th>Landing Gear Damage</th>\n",
       "      <th>Tail Strike</th>\n",
       "      <th>Tail Damage</th>\n",
       "      <th>Lights Strike</th>\n",
       "      <th>Lights Damage</th>\n",
       "      <th>Other Strike</th>\n",
       "      <th>Other Damage</th>\n",
       "    </tr>\n",
       "  </thead>\n",
       "  <tbody>\n",
       "    <tr>\n",
       "      <td>0</td>\n",
       "      <td>1.0</td>\n",
       "      <td>1</td>\n",
       "      <td>1</td>\n",
       "      <td>0</td>\n",
       "      <td>0</td>\n",
       "      <td>0</td>\n",
       "      <td>0</td>\n",
       "      <td>0</td>\n",
       "      <td>0</td>\n",
       "      <td>0</td>\n",
       "      <td>...</td>\n",
       "      <td>0</td>\n",
       "      <td>0</td>\n",
       "      <td>0</td>\n",
       "      <td>0</td>\n",
       "      <td>1</td>\n",
       "      <td>1</td>\n",
       "      <td>0</td>\n",
       "      <td>0</td>\n",
       "      <td>0</td>\n",
       "      <td>0</td>\n",
       "    </tr>\n",
       "    <tr>\n",
       "      <td>9</td>\n",
       "      <td>1.0</td>\n",
       "      <td>0</td>\n",
       "      <td>0</td>\n",
       "      <td>1</td>\n",
       "      <td>1</td>\n",
       "      <td>0</td>\n",
       "      <td>0</td>\n",
       "      <td>0</td>\n",
       "      <td>0</td>\n",
       "      <td>0</td>\n",
       "      <td>...</td>\n",
       "      <td>0</td>\n",
       "      <td>0</td>\n",
       "      <td>0</td>\n",
       "      <td>0</td>\n",
       "      <td>0</td>\n",
       "      <td>0</td>\n",
       "      <td>0</td>\n",
       "      <td>0</td>\n",
       "      <td>0</td>\n",
       "      <td>0</td>\n",
       "    </tr>\n",
       "    <tr>\n",
       "      <td>12</td>\n",
       "      <td>1.0</td>\n",
       "      <td>0</td>\n",
       "      <td>0</td>\n",
       "      <td>0</td>\n",
       "      <td>0</td>\n",
       "      <td>0</td>\n",
       "      <td>0</td>\n",
       "      <td>1</td>\n",
       "      <td>1</td>\n",
       "      <td>0</td>\n",
       "      <td>...</td>\n",
       "      <td>0</td>\n",
       "      <td>0</td>\n",
       "      <td>0</td>\n",
       "      <td>0</td>\n",
       "      <td>0</td>\n",
       "      <td>0</td>\n",
       "      <td>0</td>\n",
       "      <td>0</td>\n",
       "      <td>0</td>\n",
       "      <td>0</td>\n",
       "    </tr>\n",
       "    <tr>\n",
       "      <td>14</td>\n",
       "      <td>1.0</td>\n",
       "      <td>0</td>\n",
       "      <td>0</td>\n",
       "      <td>0</td>\n",
       "      <td>0</td>\n",
       "      <td>0</td>\n",
       "      <td>0</td>\n",
       "      <td>1</td>\n",
       "      <td>1</td>\n",
       "      <td>0</td>\n",
       "      <td>...</td>\n",
       "      <td>0</td>\n",
       "      <td>0</td>\n",
       "      <td>0</td>\n",
       "      <td>0</td>\n",
       "      <td>0</td>\n",
       "      <td>0</td>\n",
       "      <td>0</td>\n",
       "      <td>0</td>\n",
       "      <td>0</td>\n",
       "      <td>0</td>\n",
       "    </tr>\n",
       "    <tr>\n",
       "      <td>19</td>\n",
       "      <td>1.0</td>\n",
       "      <td>0</td>\n",
       "      <td>0</td>\n",
       "      <td>0</td>\n",
       "      <td>0</td>\n",
       "      <td>0</td>\n",
       "      <td>0</td>\n",
       "      <td>0</td>\n",
       "      <td>0</td>\n",
       "      <td>0</td>\n",
       "      <td>...</td>\n",
       "      <td>0</td>\n",
       "      <td>0</td>\n",
       "      <td>0</td>\n",
       "      <td>0</td>\n",
       "      <td>1</td>\n",
       "      <td>1</td>\n",
       "      <td>0</td>\n",
       "      <td>0</td>\n",
       "      <td>0</td>\n",
       "      <td>0</td>\n",
       "    </tr>\n",
       "  </tbody>\n",
       "</table>\n",
       "<p>5 rows × 30 columns</p>\n",
       "</div>"
      ],
      "text/plain": [
       "    Aircraft Damage  Radome Strike  Radome Damage  Windshield Strike  \\\n",
       "0               1.0              1              1                  0   \n",
       "9               1.0              0              0                  1   \n",
       "12              1.0              0              0                  0   \n",
       "14              1.0              0              0                  0   \n",
       "19              1.0              0              0                  0   \n",
       "\n",
       "    Windshield Damage  Nose Strike  Nose Damage  Engine1 Strike  \\\n",
       "0                   0            0            0               0   \n",
       "9                   1            0            0               0   \n",
       "12                  0            0            0               1   \n",
       "14                  0            0            0               1   \n",
       "19                  0            0            0               0   \n",
       "\n",
       "    Engine1 Damage  Engine2 Strike  ...  Fuselage Strike  Fuselage Damage  \\\n",
       "0                0               0  ...                0                0   \n",
       "9                0               0  ...                0                0   \n",
       "12               1               0  ...                0                0   \n",
       "14               1               0  ...                0                0   \n",
       "19               0               0  ...                0                0   \n",
       "\n",
       "    Landing Gear Strike  Landing Gear Damage  Tail Strike  Tail Damage  \\\n",
       "0                     0                    0            1            1   \n",
       "9                     0                    0            0            0   \n",
       "12                    0                    0            0            0   \n",
       "14                    0                    0            0            0   \n",
       "19                    0                    0            1            1   \n",
       "\n",
       "    Lights Strike  Lights Damage  Other Strike  Other Damage  \n",
       "0               0              0             0             0  \n",
       "9               0              0             0             0  \n",
       "12              0              0             0             0  \n",
       "14              0              0             0             0  \n",
       "19              0              0             0             0  \n",
       "\n",
       "[5 rows x 30 columns]"
      ]
     },
     "execution_count": 17,
     "metadata": {},
     "output_type": "execute_result"
    }
   ],
   "source": [
    "df_2.dropna().head()"
   ]
  },
  {
   "cell_type": "code",
   "execution_count": 18,
   "metadata": {},
   "outputs": [
    {
     "data": {
      "text/plain": [
       "Aircraft Damage         14969.0\n",
       "Radome Strike           18761.0\n",
       "Radome Damage            1593.0\n",
       "Windshield Strike       24189.0\n",
       "Windshield Damage        1037.0\n",
       "Nose Strike             21305.0\n",
       "Nose Damage              1145.0\n",
       "Engine1 Strike           9681.0\n",
       "Engine1 Damage           2515.0\n",
       "Engine2 Strike           7864.0\n",
       "Engine2 Damage           2023.0\n",
       "Engine3 Strike            554.0\n",
       "Engine3 Damage            169.0\n",
       "Engine4 Strike            334.0\n",
       "Engine4 Damage             74.0\n",
       "Engine Ingested          9607.0\n",
       "Propeller Strike         3497.0\n",
       "Propeller Damage          579.0\n",
       "Wing or Rotor Strike    20746.0\n",
       "Wing or Rotor Damage     4180.0\n",
       "Fuselage Strike         17881.0\n",
       "Fuselage Damage           824.0\n",
       "Landing Gear Strike      8051.0\n",
       "Landing Gear Damage      1012.0\n",
       "Tail Strike              1956.0\n",
       "Tail Damage               727.0\n",
       "Lights Strike            1038.0\n",
       "Lights Damage             734.0\n",
       "Other Strike            15796.0\n",
       "Other Damage             1565.0\n",
       "dtype: float64"
      ]
     },
     "execution_count": 18,
     "metadata": {},
     "output_type": "execute_result"
    }
   ],
   "source": [
    "df_2.sum()"
   ]
  },
  {
   "cell_type": "raw",
   "metadata": {},
   "source": [
    "airplane part damage probabilty = number of damage/number of strikes"
   ]
  },
  {
   "cell_type": "code",
   "execution_count": 19,
   "metadata": {},
   "outputs": [],
   "source": [
    "a={'random' : 1583/18761,\n",
    "'windshield' : 1037/24189,\n",
    "'nose' : 1145/21305,\n",
    "'engine_1' : 2515/9681,\n",
    "'engine_2' : 2023/7864,\n",
    "'engine_3' : 169/554,\n",
    "'engine_4' : 74/334,\n",
    "'propellor' : 579/3497,\n",
    "'wing_or_rotor' : 4180/20746,\n",
    "'fuselage' :824/17881,\n",
    "'landing_gear' :  1012/8051,\n",
    "'tail' : 727/1956,\n",
    "'lights' :734/1038,\n",
    "'other' : 1565/15796}"
   ]
  },
  {
   "cell_type": "code",
   "execution_count": 22,
   "metadata": {},
   "outputs": [],
   "source": [
    "maximium = max(a,key=a.get)"
   ]
  },
  {
   "cell_type": "markdown",
   "metadata": {},
   "source": [
    "### The part of the airplane is most prone to damage in wildlife strikes is"
   ]
  },
  {
   "cell_type": "code",
   "execution_count": 24,
   "metadata": {},
   "outputs": [
    {
     "name": "stdout",
     "output_type": "stream",
     "text": [
      "lights\n"
     ]
    }
   ],
   "source": [
    "print(maximium)"
   ]
  },
  {
   "cell_type": "markdown",
   "metadata": {},
   "source": [
    "# Solution to the second question"
   ]
  },
  {
   "cell_type": "code",
   "execution_count": 25,
   "metadata": {},
   "outputs": [],
   "source": [
    "df_3=df[['Species ID','Aircraft Damage']]"
   ]
  },
  {
   "cell_type": "code",
   "execution_count": 26,
   "metadata": {},
   "outputs": [
    {
     "name": "stderr",
     "output_type": "stream",
     "text": [
      "C:\\Users\\hp\\Anaconda3\\lib\\site-packages\\ipykernel_launcher.py:1: SettingWithCopyWarning: \n",
      "A value is trying to be set on a copy of a slice from a DataFrame.\n",
      "Try using .loc[row_indexer,col_indexer] = value instead\n",
      "\n",
      "See the caveats in the documentation: http://pandas.pydata.org/pandas-docs/stable/user_guide/indexing.html#returning-a-view-versus-a-copy\n",
      "  \"\"\"Entry point for launching an IPython kernel.\n"
     ]
    }
   ],
   "source": [
    "df_3['Aircraft Damage'] = df_3['Aircraft Damage'].replace(0,np.nan)"
   ]
  },
  {
   "cell_type": "code",
   "execution_count": 27,
   "metadata": {},
   "outputs": [
    {
     "data": {
      "text/html": [
       "<div>\n",
       "<style scoped>\n",
       "    .dataframe tbody tr th:only-of-type {\n",
       "        vertical-align: middle;\n",
       "    }\n",
       "\n",
       "    .dataframe tbody tr th {\n",
       "        vertical-align: top;\n",
       "    }\n",
       "\n",
       "    .dataframe thead th {\n",
       "        text-align: right;\n",
       "    }\n",
       "</style>\n",
       "<table border=\"1\" class=\"dataframe\">\n",
       "  <thead>\n",
       "    <tr style=\"text-align: right;\">\n",
       "      <th></th>\n",
       "      <th>Species ID</th>\n",
       "      <th>Aircraft Damage</th>\n",
       "    </tr>\n",
       "  </thead>\n",
       "  <tbody>\n",
       "    <tr>\n",
       "      <td>0</td>\n",
       "      <td>NE1</td>\n",
       "      <td>1.0</td>\n",
       "    </tr>\n",
       "    <tr>\n",
       "      <td>9</td>\n",
       "      <td>UNKBM</td>\n",
       "      <td>1.0</td>\n",
       "    </tr>\n",
       "    <tr>\n",
       "      <td>12</td>\n",
       "      <td>1G11</td>\n",
       "      <td>1.0</td>\n",
       "    </tr>\n",
       "    <tr>\n",
       "      <td>14</td>\n",
       "      <td>O2111</td>\n",
       "      <td>1.0</td>\n",
       "    </tr>\n",
       "    <tr>\n",
       "      <td>19</td>\n",
       "      <td>UNKBM</td>\n",
       "      <td>1.0</td>\n",
       "    </tr>\n",
       "  </tbody>\n",
       "</table>\n",
       "</div>"
      ],
      "text/plain": [
       "   Species ID  Aircraft Damage\n",
       "0         NE1              1.0\n",
       "9       UNKBM              1.0\n",
       "12       1G11              1.0\n",
       "14      O2111              1.0\n",
       "19      UNKBM              1.0"
      ]
     },
     "execution_count": 27,
     "metadata": {},
     "output_type": "execute_result"
    }
   ],
   "source": [
    "df_3.dropna().head()"
   ]
  },
  {
   "cell_type": "code",
   "execution_count": 28,
   "metadata": {},
   "outputs": [
    {
     "data": {
      "image/png": "[encoded data removed]",
      "text/plain": [
       "<Figure size 432x288 with 1 Axes>"
      ]
     },
     "metadata": {
      "needs_background": "light"
     },
     "output_type": "display_data"
    }
   ],
   "source": [
    "df_3['Species ID'].value_counts(ascending=False).head(15).plot(kind='barh', title='Species Involved in Aircraft Damage',)\n",
    "plt.show()"
   ]
  },
  {
   "cell_type": "markdown",
   "metadata": {},
   "source": [
    "## As its clear from the graph that thspecies has caused the most damage to airplanes is UNKB which is unkown medium sized bird"
   ]
  },
  {
   "cell_type": "code",
   "execution_count": null,
   "metadata": {},
   "outputs": [],
   "source": []
  }
 ],
 "metadata": {
  "kernelspec": {
   "display_name": "Python 3",
   "language": "python",
   "name": "python3"
  },
  "language_info": {
   "codemirror_mode": {
    "name": "ipython",
    "version": 3
   },
   "file_extension": ".py",
   "mimetype": "text/x-python",
   "name": "python",
   "nbconvert_exporter": "python",
   "pygments_lexer": "ipython3",
   "version": "3.7.4"
  }
 },
 "nbformat": 4,
 "nbformat_minor": 2
}
